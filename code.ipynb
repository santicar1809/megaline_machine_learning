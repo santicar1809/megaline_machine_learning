{
 "cells": [
  {
   "cell_type": "markdown",
   "metadata": {},
   "source": [
    "# Descripción del proyecto  \n",
    "\n",
    "La compañía móvil Megaline no está satisfecha al ver que muchos de sus clientes utilizan planes heredados. Quieren desarrollar un modelo que pueda analizar el comportamiento de los clientes y recomendar uno de los nuevos planes de Megaline: Smart o Ultra.\n",
    "Tienes acceso a los datos de comportamiento de los suscriptores que ya se han cambiado a los planes nuevos (del proyecto del curso de Análisis estadístico de datos). Para esta tarea de clasificación debes crear un modelo que escoja el plan correcto. Como ya hiciste el paso de procesar los datos, puedes lanzarte directo a crear el modelo.\n",
    "Desarrolla un modelo con la mayor exactitud posible. En este proyecto, el umbral de exactitud es 0.75. Usa el dataset para comprobar la exactitud.\n",
    "\n",
    "## Instrucciones del proyecto.\n",
    "1. Abre y examina el archivo de datos. Dirección al archivo:datasets/users_behavior.csv \n",
    "2. Segmenta los datos fuente en un conjunto de entrenamiento, uno de validación y uno de prueba.\n",
    "3. Investiga la calidad de diferentes modelos cambiando los hiperparámetros. Describe brevemente los hallazgos del estudio.\n",
    "4. Comprueba la calidad del modelo usando el conjunto de prueba.\n",
    "5. Tarea adicional: haz una prueba de cordura al modelo. Estos datos son más complejos que los que habías usado antes así que no será una tarea fácil. Más adelante lo veremos con más detalle.\n",
    "\n",
    "## Descripción de datos\n",
    "Cada observación en el dataset contiene información del comportamiento mensual sobre un usuario. La información dada es la siguiente:\n",
    "- сalls — número de llamadas,\n",
    "- minutes — duración total de la llamada en minutos,\n",
    "- messages — número de mensajes de texto,\n",
    "- mb_used — Tráfico de Internet utilizado en MB,\n",
    "- is_ultra — plan para el mes actual (Ultra - 1, Smart - 0)."
   ]
  }
 ],
 "metadata": {
  "language_info": {
   "name": "python"
  }
 },
 "nbformat": 4,
 "nbformat_minor": 2
}
